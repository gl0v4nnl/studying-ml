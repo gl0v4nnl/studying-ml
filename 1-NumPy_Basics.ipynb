{
 "cells": [
  {
   "cell_type": "markdown",
   "id": "8db4ee70-18b6-4dcf-8ac3-c0411d523247",
   "metadata": {},
   "source": [
    "# 1. Основы NumPy - Демонстрация работы с библиотекой NumPy и матрицами"
   ]
  },
  {
   "cell_type": "markdown",
   "id": "22cd84a3-465a-4155-b95b-c448736a6f58",
   "metadata": {},
   "source": [
    "## Создание и преобразование матриц"
   ]
  },
  {
   "cell_type": "markdown",
   "id": "7274a82a-2fb9-46aa-a027-262efceba80c",
   "metadata": {},
   "source": [
    "### Подключение библиотеки и создание матрицы"
   ]
  },
  {
   "cell_type": "code",
   "execution_count": 2,
   "id": "84d92770-432a-490e-a735-918c017c31da",
   "metadata": {},
   "outputs": [
    {
     "name": "stdout",
     "output_type": "stream",
     "text": [
      "[[1 2 3]\n",
      " [4 5 6]]\n",
      "размерность: (2, 3)\n"
     ]
    }
   ],
   "source": [
    "import numpy as np\n",
    "\n",
    "a1 = np.array([[1,2,3], [4,5,6]])\n",
    "print(a1)\n",
    "print(\"размерность: \" + str(a1.shape))"
   ]
  },
  {
   "cell_type": "markdown",
   "id": "6ce8572b-b42e-4f47-890e-320352310cf7",
   "metadata": {},
   "source": [
    "### Транспонирование матрицы"
   ]
  },
  {
   "cell_type": "code",
   "execution_count": 15,
   "id": "529c90f4-cd2e-4669-96da-ef55cd70c876",
   "metadata": {},
   "outputs": [
    {
     "name": "stdout",
     "output_type": "stream",
     "text": [
      "[[1 4]\n",
      " [2 5]\n",
      " [3 6]]\n",
      "размерность: (3, 2)\n"
     ]
    }
   ],
   "source": [
    "aT = a1.T\n",
    "print(aT)\n",
    "print(\"размерность: \" + str(aT.shape))"
   ]
  },
  {
   "cell_type": "markdown",
   "id": "41665fa1-ef4f-4101-9fbb-d78d789163b4",
   "metadata": {},
   "source": [
    "### Создание единичной матрицы"
   ]
  },
  {
   "cell_type": "code",
   "execution_count": 18,
   "id": "35fb585c-472d-4f51-a55c-a72ae63824ca",
   "metadata": {},
   "outputs": [
    {
     "name": "stdout",
     "output_type": "stream",
     "text": [
      "----- e1 -----\n",
      "[[2. 0. 0. 0.]\n",
      " [0. 2. 0. 0.]\n",
      " [0. 0. 2. 0.]]\n",
      "----- e2 -----\n",
      "[[0. 1. 0. 0.]\n",
      " [0. 0. 1. 0.]\n",
      " [0. 0. 0. 1.]]\n",
      "--- e1 + e2 ---\n",
      "[[2. 1. 0. 0.]\n",
      " [0. 2. 1. 0.]\n",
      " [0. 0. 2. 1.]]\n"
     ]
    }
   ],
   "source": [
    "e1 = 2 * np.eye(3, 4, k=0)\n",
    "# k - сдвиг относительно главной диагонали\n",
    "print(\"----- e1 -----\")\n",
    "print(e1)\n",
    "\n",
    "e2 = np.eye(3, 4, k=1)\n",
    "print(\"----- e2 -----\")\n",
    "print(e2)\n",
    "\n",
    "print(\"--- e1 + e2 ---\")\n",
    "print(e1 + e2)"
   ]
  },
  {
   "cell_type": "markdown",
   "id": "69ad8234-d575-4a46-8b5c-95cf5547866d",
   "metadata": {},
   "source": [
    "### Перевод в одномерный массив"
   ]
  },
  {
   "cell_type": "code",
   "execution_count": 17,
   "id": "0d60dc0f-138d-48e3-b8a1-4826b7054403",
   "metadata": {},
   "outputs": [
    {
     "name": "stdout",
     "output_type": "stream",
     "text": [
      "--- до ---\n",
      "[[1 2 3]\n",
      " [4 5 6]]\n",
      "--- после ---\n",
      "[1 2 3 4 5 6]\n",
      "размерность: (6,)\n"
     ]
    }
   ],
   "source": [
    "a2 = a1.flatten()\n",
    "print(\"--- до ---\")\n",
    "print(a1)\n",
    "print(\"--- после ---\")\n",
    "print(a2)\n",
    "print(\"размерность: \" + str(a2.shape))"
   ]
  },
  {
   "cell_type": "markdown",
   "id": "f22fe9df-9086-4251-963d-eb0e4660c2fa",
   "metadata": {},
   "source": [
    "### Изменение формы матрицы"
   ]
  },
  {
   "cell_type": "code",
   "execution_count": 19,
   "id": "b3c97ffd-17b2-464e-8560-480edc742dc0",
   "metadata": {},
   "outputs": [
    {
     "name": "stdout",
     "output_type": "stream",
     "text": [
      "--- до ---\n",
      "[1 2 3 4 5 6]\n",
      "--- после ---\n",
      "[[1]\n",
      " [2]\n",
      " [3]\n",
      " [4]\n",
      " [5]\n",
      " [6]]\n",
      "размерность: (6, 1)\n"
     ]
    }
   ],
   "source": [
    "a3 = np.reshape(a2, (a2.size, 1))\n",
    "print(\"--- до ---\")\n",
    "print(a2)\n",
    "print(\"--- после ---\")\n",
    "print(a3)\n",
    "print(\"размерность: \" + str(a3.shape))"
   ]
  },
  {
   "cell_type": "markdown",
   "id": "acdddf58-3a05-4f84-aa98-cb5343be631a",
   "metadata": {},
   "source": [
    "## Базовые статистики"
   ]
  },
  {
   "cell_type": "code",
   "execution_count": 6,
   "id": "9df13bd2-47e7-4f4e-a3e7-5ff93deb89b1",
   "metadata": {},
   "outputs": [
    {
     "name": "stdout",
     "output_type": "stream",
     "text": [
      "[0 5 7 4 2 6 3 1]\n",
      "[[0 5 7 4]\n",
      " [2 6 3 1]]\n",
      "--- вывод базовых статистик матрицы ---\n",
      "вдоль столбцов:\n",
      "mean: [1.  5.5 5.  2.5]\n",
      " max: [2 6 7 4]\n",
      " min: [0 5 3 1]\n",
      "вдоль строк:\n",
      "mean: [4. 3.]\n",
      " max: [7 6]\n",
      " min: [0 1]\n",
      "вдоль всего массива:\n",
      "mean: 3.5\n",
      " max: 7\n",
      " min: 0\n"
     ]
    }
   ],
   "source": [
    "import random\n",
    "\n",
    "v = np.array(random.sample(range(8), 8))\n",
    "print(v)\n",
    "v = v.reshape((2,4))\n",
    "print(v)\n",
    "print(\"--- вывод базовых статистик матрицы ---\")\n",
    "\n",
    "print(\"вдоль столбцов:\")\n",
    "print(\"mean: \" + str(v.mean(axis=0)))\n",
    "print(\" max: \" + str(v.max(axis=0)))\n",
    "print(\" min: \" + str(v.min(axis=0)))\n",
    "\n",
    "print(\"вдоль строк:\")\n",
    "print(\"mean: \" + str(v.mean(axis=1)))\n",
    "print(\" max: \" + str(v.max(axis=1)))\n",
    "print(\" min: \" + str(v.min(axis=1)))\n",
    "\n",
    "print(\"вдоль всего массива:\")\n",
    "print(\"mean: \" + str(v.mean(axis=None)))\n",
    "print(\" max: \" + str(v.max(axis=None)))\n",
    "print(\" min: \" + str(v.min(axis=None)))"
   ]
  }
 ],
 "metadata": {
  "kernelspec": {
   "display_name": "Python 3 (ipykernel)",
   "language": "python",
   "name": "python3"
  },
  "language_info": {
   "codemirror_mode": {
    "name": "ipython",
    "version": 3
   },
   "file_extension": ".py",
   "mimetype": "text/x-python",
   "name": "python",
   "nbconvert_exporter": "python",
   "pygments_lexer": "ipython3",
   "version": "3.10.12"
  }
 },
 "nbformat": 4,
 "nbformat_minor": 5
}
